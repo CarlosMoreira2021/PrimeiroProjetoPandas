{
  "nbformat": 4,
  "nbformat_minor": 0,
  "metadata": {
    "colab": {
      "name": "Projeto com pandas.ipynb",
      "provenance": [],
      "collapsed_sections": [],
      "authorship_tag": "ABX9TyOWHezjsFDDTnDpIUP1l0lE",
      "include_colab_link": true
    },
    "kernelspec": {
      "name": "python3",
      "display_name": "Python 3"
    },
    "language_info": {
      "name": "python"
    }
  },
  "cells": [
    {
      "cell_type": "markdown",
      "metadata": {
        "id": "view-in-github",
        "colab_type": "text"
      },
      "source": [
        "<a href=\"https://colab.research.google.com/github/CarlosMoreira2021/PrimeiroProjetoPandas/blob/main/Projeto_com_pandas.ipynb\" target=\"_parent\"><img src=\"https://colab.research.google.com/assets/colab-badge.svg\" alt=\"Open In Colab\"/></a>"
      ]
    },
    {
      "cell_type": "code",
      "execution_count": 2,
      "metadata": {
        "id": "0_awnB1FgfIf"
      },
      "outputs": [],
      "source": [
        "import pandas as pd\n",
        "planilha = pd.read_excel('/controle_da_empresa.xlsx',None)"
      ]
    },
    {
      "cell_type": "code",
      "source": [
        "planilha['Vendas']"
      ],
      "metadata": {
        "id": "4Mpv2NMTgwmV"
      },
      "execution_count": null,
      "outputs": []
    },
    {
      "cell_type": "code",
      "source": [
        "planilha.keys()\n",
        "##nome das abas"
      ],
      "metadata": {
        "id": "2CJ01IUAhPls"
      },
      "execution_count": null,
      "outputs": []
    },
    {
      "cell_type": "code",
      "source": [
        "##acessando coluna\n",
        "##somando\n",
        "planilha['Vendas']['Total de Vendas'].sum()\n"
      ],
      "metadata": {
        "colab": {
          "base_uri": "https://localhost:8080/"
        },
        "id": "nX0lEmg3hf7T",
        "outputId": "5c18b15d-5563-4b6b-845b-ae942e34852f"
      },
      "execution_count": 18,
      "outputs": [
        {
          "output_type": "execute_result",
          "data": {
            "text/plain": [
              "855799"
            ]
          },
          "metadata": {},
          "execution_count": 18
        }
      ]
    },
    {
      "cell_type": "code",
      "source": [
        "planilha['Vendas']['Total de Vendas'].mean()\n",
        "##calculando media"
      ],
      "metadata": {
        "colab": {
          "base_uri": "https://localhost:8080/"
        },
        "id": "mwwhgDLQh6lS",
        "outputId": "4ecbaf03-bd4d-465c-993a-db1c4b491609"
      },
      "execution_count": 25,
      "outputs": [
        {
          "output_type": "execute_result",
          "data": {
            "text/plain": [
              "9508.877777777778"
            ]
          },
          "metadata": {},
          "execution_count": 25
        }
      ]
    },
    {
      "cell_type": "code",
      "source": [
        "##Calculando desvia padrão\n",
        "planilha['Vendas']['Total de Vendas'].std()"
      ],
      "metadata": {
        "colab": {
          "base_uri": "https://localhost:8080/"
        },
        "id": "OzSodms0iDrh",
        "outputId": "76365823-49ba-4c0a-dd20-0dc16e59ad5c"
      },
      "execution_count": 28,
      "outputs": [
        {
          "output_type": "execute_result",
          "data": {
            "text/plain": [
              "8509.90896560424"
            ]
          },
          "metadata": {},
          "execution_count": 28
        }
      ]
    },
    {
      "cell_type": "code",
      "source": [
        "vendas = planilha['Vendas']"
      ],
      "metadata": {
        "id": "Q2wwJ9XQiskv"
      },
      "execution_count": 30,
      "outputs": []
    },
    {
      "cell_type": "code",
      "source": [
        "vendas['Total de Vendas']"
      ],
      "metadata": {
        "id": "EL7jg2nOixn_"
      },
      "execution_count": null,
      "outputs": []
    },
    {
      "cell_type": "code",
      "source": [
        "vendas.plot('Data da Venda','Total de Vendas')"
      ],
      "metadata": {
        "id": "VbJjdE8WjM2-"
      },
      "execution_count": null,
      "outputs": []
    },
    {
      "cell_type": "code",
      "source": [
        "#plotando um histograma\n",
        "vendas.hist('Total de Vendas')"
      ],
      "metadata": {
        "id": "e2Tdjpzjjh3X"
      },
      "execution_count": null,
      "outputs": []
    }
  ]
}